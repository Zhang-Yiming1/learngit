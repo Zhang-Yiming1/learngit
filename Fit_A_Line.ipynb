{
 "cells": [
  {
   "cell_type": "markdown",
   "metadata": {},
   "source": [
    "最近在上开课吧人工智能学院，第六期计算机视觉的课程。讲师讲了线性回归与逻辑回归，我吸收了之后，也有自己的理解，我想show一下！哈哈哈～   \n",
    "那就从我有一个房子开始吧～ 最近想去大城市闯荡，需要钱，我想卖掉老家的房子。我知道自己的房子150平米，我想预估这个房子的价格。我就去卖房子的网站去看别人的房子都是什么样的价格。刚开始我很单纯，只关注了一个点，就是房子的面积和价格。  \n",
    "我收集了以下数据：（100平米，350万）（200平米，650万），就想自己的房子应该介于350万到650万之间。      \n",
    "我是学习过数学嘛，想到 $y = ax + b$ ,根据两个数据的规律得到以下经验：      \n",
    "房子价格 = 3 ✖️房子的面积 + 50。    \n",
    "那我把自己房子的面积带入，那价格应该是500万。            \n",
    "       \n",
    "以上过程，进一步理解。关于收集来的简单数据可看作数据集，简单记为（$x$ ,$y$）。        \n",
    "房子的面积可看作特征。     \n",
    "线性方程中的 $a$、$b$ 可看作参数，根据数据求得 $a$、$b$，可看作求参数的过程，也可称作训练过程。训练所用的数据又是训练集。   \n",
    "房子的价格能影响参数的值，这样的影响，可看作有监督的过程，房子的价格监督 $a$、$b$ 求解的过程。    \n",
    "函数【房子价格 = 3 ✖️房子的面积 + 50】 可看作一个模型，带入新的数据【房子的面积】可知道该房子的价格。\n",
    "\n",
    "那当我收集10个数据的时候呢？\n",
    "  \n",
    "\n",
    "|  房子面积   | 房子价格  |\n",
    "|  ----  | ----  |\n",
    "| 50         | 150      |\n",
    "| 80         | 200      |\n",
    "| 100        | 350      |\n",
    "| 120        | 400      |\n",
    "| 160        | 500      |\n",
    "| 180        | 600      |\n",
    "| 200        | 650      |\n",
    "| 250        | 700      |"
   ]
  },
  {
   "cell_type": "code",
   "execution_count": 14,
   "metadata": {},
   "outputs": [
    {
     "data": {
      "text/plain": [
       "<matplotlib.axes._subplots.AxesSubplot at 0x11cf0f438>"
      ]
     },
     "execution_count": 14,
     "metadata": {},
     "output_type": "execute_result"
    },
    {
     "data": {
      "image/png": "[encoded data removed]",
      "text/plain": [
       "<Figure size 864x576 with 1 Axes>"
      ]
     },
     "metadata": {},
     "output_type": "display_data"
    }
   ],
   "source": [
    "import pandas as pd \n",
    "import matplotlib.pyplot as plt\n",
    "%matplotlib inline\n",
    "\n",
    "data = pd.DataFrame({'size': [50, 80, 100, 120, 160, 180, 200, 250],\n",
    "                     'price': [150, 200, 350, 400, 500, 600, 650, 700]})\n",
    "\n",
    "data.plot(kind='scatter', x = 'size', y = 'price', figsize = (12,8))"
   ]
  },
  {
   "attachments": {},
   "cell_type": "markdown",
   "metadata": {},
   "source": [
    "现在继续使用一条直线去靠近这些点，便以下的图示过程，可称作拟合的过程。  \n",
    "用红色的线记录同一个横轴下直线与点的差异。\n",
    "当所有红色的线累计到最短的时候，便是拟合效果最好的时候。   \n",
    "我们将绿色直线的值记为 $\\hat y$。那 $|\\hat y - y|$ 表示拟合直线与真实值的误差(Error)，即是红色的线。则所有数据的平均绝对误差（Mean Absolute Error，MAE），若有$m$个数据，第$i$个数据下的真实值表示为$y^i$,拟合曲线在第个值下的值为 $ \\hat y^i$, MAE表示为：\n",
    "$$ MAE = \\frac 1m\\sum_{i=1}^m | \\hat y^i - y^i | $$\n",
    "同样，考虑到拟合直线与真实值的面积误差，称之为 Mean Squared Error（MSE），表达式如下：\n",
    "$$ MSE = \\frac {1}{2m}\\sum_{i=1}^m ( \\hat y^i - y^i )^2 $$\n",
    "这样，我们的目标是希望拟合直线与真实值的误差最小，可以选择MSE或者MAE，监督参数的求解,这样的MSE/MAE的函数，又称为损失函数/期望函数/目标函数（(cost/loss/target function)）。\n",
    "#### 那如何求解参数呢？\n",
    "那选择MSE作为监督的函数    \n",
    "cost function = MSE   \n",
    "目标是希望 MSE 越小越好，如何让MSE越来越小呢？也就是随机调整参数 $a$、$b$，观察 cost function的值，监督参数 $a$、$b$ 的调整。  \n",
    "随机调整参数有点佛系，比较耗时。有没有谁能指点方向，让参数求解faster呢？   \n",
    "开课吧人工智能数学基础课上，讲师提到，梯度的方向是函数变化最快的方向。那梯度可用于参数求解。以下是CV讲师给出了如何求参数的过程。\n",
    "\n",
    "那在我们这里呢？   \n",
    "\n",
    "Hypothesis (拟合的直线) ： $ y = ax + b$    \n",
    "\n",
    "Parameters (参数) ： $a,b$   \n",
    "\n",
    "Cost Func (损失函数) ：  $ Cost(a,b) =  \\frac {1}{2m}\\sum_{i=1}^m ( \\hat y^i - y^i )^2 $   \n",
    "\n",
    "Goal ：$\\min_{a,b}Cost(a,b)$   \n",
    "\n",
    "##### 梯度下降\n",
    "- 首先对 $a$、$b$ 赋值，这个值可以是随机的，也可以是一个零向量；  \n",
    "- 改变 $a$、$b$ 的值，使得 $ Cost(a,b) $ 按梯度下降的方向进行减少；  \n",
    "- 当 $ Cost(a,b) $  下降到无法下降时为止，这时  $ Cost(a,b) $ 对 $ a,b $ 的导数为0.\n",
    "以上的参数是怎么改变的呢？\n",
    "$$ temp0 = a - \\lambda \\frac{\\partial }{\\partial a} Cost(a,b)$$\n",
    "\n",
    "$$ temp1 = b - \\lambda \\frac{\\partial }{\\partial b} Cost(a,b)$$\n",
    "\n",
    "$$ a := temp0 $$\n",
    "\n",
    "$$ a := temp1 $$\n",
    "$ \\lambda $ 是步长，也被成为学习率，凭经验值。   \n",
    "$ \\frac{\\partial }{\\partial a} Cost(a,b) ,\\frac{\\partial }{\\partial b} Cost(a,b)$ 是多少呢？\n",
    "$$ \\frac{\\partial }{\\partial a} Cost(a,b) = \\frac {1}{m}\\sum_{i=1}^m (\\hat y^i - y^i ) x $$ \n",
    "$$ \\frac{\\partial }{\\partial b} Cost(a,b) = \\frac {1}{m}\\sum_{i=1}^m (\\hat y^i - y^i) $$ \n",
    "\n",
    "参数求解之后，带入拟合的直线，拟合的直线可以对新的数据进行预测。现在进入代码实践的过程～"
   ]
  },
  {
   "cell_type": "code",
   "execution_count": 15,
   "metadata": {},
   "outputs": [],
   "source": [
    "# inference 拟合的直线 y_hat\n",
    "def inference(a,b,x):\n",
    "    y_hat = a * x + b\n",
    "    return y_hat"
   ]
  },
  {
   "cell_type": "code",
   "execution_count": 16,
   "metadata": {},
   "outputs": [],
   "source": [
    "# cost function\n",
    "def eval_loss(a,b,x_list,gt_y_list):\n",
    "    avg_loss = 0\n",
    "    for i in range(len(x_list)):\n",
    "        avg_loss += 0.5 * (a * x_list[i] + b - gt_y_list[i]) ** 2\n",
    "    avg_loss /= len(gt_y_list)\n",
    "    return avg_loss"
   ]
  },
  {
   "cell_type": "code",
   "execution_count": 17,
   "metadata": {},
   "outputs": [],
   "source": [
    "# 一个数据的梯度\n",
    "def gradient(y_hat, gt_y, x):\n",
    "    diff = y_hat - gt_y\n",
    "    da = diff * x\n",
    "    db = diff\n",
    "    return da,db"
   ]
  },
  {
   "cell_type": "code",
   "execution_count": 23,
   "metadata": {},
   "outputs": [],
   "source": [
    "\n",
    "def cal_step_gradient(x_list, gt_y_list, a, b ,lr):\n",
    "    avg_da, avg_db = 0, 0\n",
    "    x_number = len(x_list)\n",
    "    for i in range( len(x_list)):\n",
    "        y_hat = inference(a, b, x_list[i])\n",
    "        da, db = gradient(y_hat, gt_y_list[i], x_list[i])\n",
    "        avg_da += da\n",
    "        avg_db += db\n",
    "    avg_da /= x_number\n",
    "    avg_db /= x_number\n",
    "    a -= lr * avg_da\n",
    "    b -= lr * avg_db\n",
    "    return a,b"
   ]
  },
  {
   "cell_type": "code",
   "execution_count": 19,
   "metadata": {},
   "outputs": [],
   "source": [
    "def train(x_list, gt_y_list, lr, max_iter):\n",
    "    a = 0\n",
    "    b = 0\n",
    "    num_samples = len(x_list)\n",
    "    for i in range(max_iter): \n",
    "        a, b = cal_step_gradient(x_list, gt_y_list, a, b, lr)\n",
    "        print('a:{0},b:{1}'.format(a,b))\n",
    "        print('loss is {}'.format(eval_loss(a,b,x_list,gt_y_list)))\n",
    "        time.sleep(0.1)\n",
    "        \n",
    "    return a,b"
   ]
  },
  {
   "cell_type": "code",
   "execution_count": 31,
   "metadata": {},
   "outputs": [
    {
     "name": "stdout",
     "output_type": "stream",
     "text": [
      "w:7493.75,b:44.375\n",
      "loss is 679678972650.5859\n",
      "w:-18139254.21875,b:-106701.625\n",
      "loss is 3.9856838565820764e+18\n",
      "w:43925732082.609375,b:258388385.52968752\n",
      "loss is 2.337232202675229e+25\n",
      "w:-106369842265038.64,b:-625709132585.832\n",
      "loss is 1.3705689075667437e+32\n"
     ]
    },
    {
     "data": {
      "text/plain": [
       "(-106369842265038.64, -625709132585.832)"
      ]
     },
     "execution_count": 31,
     "metadata": {},
     "output_type": "execute_result"
    }
   ],
   "source": [
    "import time\n",
    "train(data['size'], data['price'],0.1, 4)"
   ]
  },
  {
   "cell_type": "code",
   "execution_count": 20,
   "metadata": {},
   "outputs": [
    {
     "data": {
      "text/plain": [
       "0     50\n",
       "1     80\n",
       "2    100\n",
       "3    120\n",
       "4    160\n",
       "5    180\n",
       "6    200\n",
       "7    250\n",
       "Name: size, dtype: int64"
      ]
     },
     "execution_count": 20,
     "metadata": {},
     "output_type": "execute_result"
    }
   ],
   "source": [
    "data['size']"
   ]
  },
  {
   "cell_type": "code",
   "execution_count": null,
   "metadata": {},
   "outputs": [],
   "source": []
  }
 ],
 "metadata": {
  "kernelspec": {
   "display_name": "Python 3",
   "language": "python",
   "name": "python3"
  },
  "language_info": {
   "codemirror_mode": {
    "name": "ipython",
    "version": 3
   },
   "file_extension": ".py",
   "mimetype": "text/x-python",
   "name": "python",
   "nbconvert_exporter": "python",
   "pygments_lexer": "ipython3",
   "version": "3.6.8"
  }
 },
 "nbformat": 4,
 "nbformat_minor": 2
}
