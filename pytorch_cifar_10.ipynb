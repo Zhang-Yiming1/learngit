{
  "nbformat": 4,
  "nbformat_minor": 0,
  "metadata": {
    "colab": {
      "name": "pytorch_cifar_10.ipynb",
      "provenance": [],
      "private_outputs": true,
      "toc_visible": true
    },
    "kernelspec": {
      "name": "python3",
      "display_name": "Python 3"
    },
    "accelerator": "GPU"
  },
  "cells": [
    {
      "cell_type": "code",
      "metadata": {
        "id": "c-NK7VrZ8cJ7",
        "colab_type": "code",
        "colab": {}
      },
      "source": [
        "ls"
      ],
      "execution_count": 0,
      "outputs": []
    },
    {
      "cell_type": "markdown",
      "metadata": {
        "id": "BW64tgKWljuC",
        "colab_type": "text"
      },
      "source": [
        "google colab   \n",
        "resnet50 在cifar-10上的准确率    \n",
        "zhang yiming    \n",
        "yimingzhang@kaikeba.com"
      ]
    },
    {
      "cell_type": "code",
      "metadata": {
        "id": "_9Kwu4UK37dJ",
        "colab_type": "code",
        "colab": {}
      },
      "source": [
        "import torch\n",
        "import torchvision\n",
        "from torch.utils.data import DataLoader\n",
        "import torch.nn as nn\n",
        "import torch.optim as optim\n",
        "import torchvision.transforms as transforms\n",
        "\n",
        "# 预处理的设置\n",
        "# 图片转化为 alexnet 规定的图片大小\n",
        "# 归一化是减去均值，除以方差\n",
        "# 把 numpy array 转化为 tensor 的格式\n",
        "my_tf = transforms.Compose([\n",
        "    transforms.Resize((224,224)),\n",
        "    transforms.ToTensor(),\n",
        "    transforms.Normalize([0.4914, 0.4822, 0.4465], [0.247, 0.243, 0.261])])\n",
        "\n",
        "# 读取数据集cifar-10的图，有10个类，5万张图片。进行预处理。\n",
        "train_dataset = torchvision.datasets.CIFAR10(root='./',train=True,transform=my_tf,download=True)\n",
        "test_dataset = torchvision.datasets.CIFAR10(root='./',train=False,transform=my_tf,download=True)\n"
      ],
      "execution_count": 0,
      "outputs": []
    },
    {
      "cell_type": "code",
      "metadata": {
        "id": "rCcQlWcfyJMv",
        "colab_type": "code",
        "colab": {}
      },
      "source": [
        "# 调用预训练模型resnet50\n",
        "my_resnet50 = torchvision.models.resnet50(pretrained=True)"
      ],
      "execution_count": 0,
      "outputs": []
    },
    {
      "cell_type": "code",
      "metadata": {
        "id": "_na0itTEyySY",
        "colab_type": "code",
        "colab": {}
      },
      "source": [
        "torchvision.models.resnet50()"
      ],
      "execution_count": 0,
      "outputs": []
    },
    {
      "cell_type": "code",
      "metadata": {
        "id": "RjdP0XWdzE2J",
        "colab_type": "code",
        "colab": {}
      },
      "source": [
        "my_resnet50.fc"
      ],
      "execution_count": 0,
      "outputs": []
    },
    {
      "cell_type": "code",
      "metadata": {
        "id": "4p-bESiUzWj6",
        "colab_type": "code",
        "colab": {}
      },
      "source": [
        "# 固定网络框架全连接层之前的参数\n",
        "for param in my_resnet50.parameters():\n",
        "    param.requires_grad=False"
      ],
      "execution_count": 0,
      "outputs": []
    },
    {
      "cell_type": "code",
      "metadata": {
        "id": "GNXw08sG4U76",
        "colab_type": "code",
        "colab": {}
      },
      "source": [
        "\n",
        "# 将resnet50最后一层输出的类别数，改为cifar-10的类别数（10）\n",
        "in_f = my_resnet50.fc.in_features\n",
        "my_resnet50.fc = nn.Linear(in_f,10)\n",
        "              "
      ],
      "execution_count": 0,
      "outputs": []
    },
    {
      "cell_type": "code",
      "metadata": {
        "id": "3ZHGcNes69OH",
        "colab_type": "code",
        "colab": {}
      },
      "source": [
        "my_resnet50"
      ],
      "execution_count": 0,
      "outputs": []
    },
    {
      "cell_type": "code",
      "metadata": {
        "id": "Y8K-rpOsixZl",
        "colab_type": "code",
        "colab": {}
      },
      "source": [
        "# 超参数设置\n",
        "learn_rate = 0.001\n",
        "num_epoches = 2\n",
        "# 多分类损失函数，使用默认值\n",
        "criterion = nn.CrossEntropyLoss()  \n",
        "# 梯度下降，求解模型最后一层参数\n",
        "optimizer = optim.SGD(my_resnet50.fc.parameters(),lr=learn_rate,momentum=0.9)\n",
        "# 判断使用CPU还是GPU\n",
        "device = torch.device('cuda') if torch.cuda.is_available() else torch.device('cpu')\n",
        "# 图片分批次送入内存（32张图片,batch_size），进行计算。\n",
        "train_dataloader = DataLoader(dataset=train_dataset,batch_size=32,shuffle=True)\n",
        "test_dataloader = DataLoader(dataset=test_dataset)"
      ],
      "execution_count": 0,
      "outputs": []
    },
    {
      "cell_type": "code",
      "metadata": {
        "id": "An4v-vCYhRjR",
        "colab_type": "code",
        "colab": {}
      },
      "source": [
        "# 训练阶段\n",
        "my_resnet50.to(device)\n",
        "my_resnet50.train()\n",
        "for epoch in range(num_epoches):\n",
        "    print(f\"epoch: {epoch+1}\")\n",
        "    for idx,(img,label)in enumerate(train_dataloader):\n",
        "        images = img.to(device)\n",
        "        labels = label.to(device)\n",
        "        output = my_resnet50(images)\n",
        "        loss = criterion(output,labels)\n",
        "        loss.backward() # 损失反向传播\n",
        "        optimizer.step() # 更新梯度\n",
        "        optimizer.zero_grad() # 梯度清零\n",
        "        if idx%100==0:\n",
        "            print(f\"current loss = {loss.item()}\")\n"
      ],
      "execution_count": 0,
      "outputs": []
    },
    {
      "cell_type": "code",
      "metadata": {
        "id": "Z4SkKsTR1TOh",
        "colab_type": "code",
        "colab": {}
      },
      "source": [
        "# 超参数设置\n",
        "learn_rate = 0.0001\n",
        "num_epoches = 5\n",
        "for epoch in range(num_epoches):\n",
        "    print(f\"epoch: {epoch+1}\")\n",
        "    for idx,(img,label)in enumerate(train_dataloader):\n",
        "        images = img.to(device)\n",
        "        labels = label.to(device)\n",
        "        output = my_resnet50(images)\n",
        "        loss = criterion(output,labels)\n",
        "        loss.backward() # 损失反向传播\n",
        "        optimizer.step() # 更新梯度\n",
        "        optimizer.zero_grad() # 梯度清零\n",
        "        if idx%100==0:\n",
        "            print(f\"current loss = {loss.item()}\")"
      ],
      "execution_count": 0,
      "outputs": []
    },
    {
      "cell_type": "code",
      "metadata": {
        "id": "TNt9L1YT4nHQ",
        "colab_type": "code",
        "colab": {}
      },
      "source": [
        "\n",
        "# 测试阶段\n",
        "my_resnet50.to(device)\n",
        "my_resnet50.eval() # 把训练好的模型的参数冻结\n",
        "total,correct = 0 , 0\n",
        "for img,label in test_dataloader:\n",
        "    images = img.to(device)\n",
        "    labels = label.to(device)\n",
        "    #print(\"label: \",labels)\n",
        "    output = my_resnet50(images)\n",
        "    #print(\"output:\", output.data.size)\n",
        "    _,idx = torch.max(output.data,1) # 输出最大值的位置\n",
        "    #print(\"idx: \", idx)\n",
        "    total += labels.size(0) # 全部图片\n",
        "    correct += (idx==labels).sum() # 正确的图片\n",
        "    #print(\"correct_num: %f\",correct)\n",
        "print(\"correct_num: \",correct)\n",
        "print(\"total_image_num: \",total)\n",
        "print(f\"accuracy:{100.*correct/total}\")   "
      ],
      "execution_count": 0,
      "outputs": []
    },
    {
      "cell_type": "code",
      "metadata": {
        "id": "oh8UNmXEiKUG",
        "colab_type": "code",
        "colab": {}
      },
      "source": [
        ""
      ],
      "execution_count": 0,
      "outputs": []
    }
  ]
}